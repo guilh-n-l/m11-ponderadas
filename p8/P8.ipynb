{
  "cells": [
    {
      "cell_type": "markdown",
      "source": [
        "# Tradução Automática e o Conjunto de Dados\n",
        "\n",
        "Este notebook implementa um estudo de caso de Tradução Automática e o Conjunto de Dados, utilizando o conjunto de dados do Projeto Tatoeba, que contém sentenças paralelas em inglês e japonês. O objetivo deste estudo é construir um pipeline para pré-processamento de texto, tokenização, obtenção de vocabulário e treinamento de um modelo de tradução automática."
      ],
      "metadata": {
        "id": "8QK1OVZPMqao"
      },
      "id": "8QK1OVZPMqao"
    },
    {
      "cell_type": "markdown",
      "source": [
        "## Download e pré-processamento do conjunto de dados do Projeto Tatoeba\n",
        "Primeiramente, foi feito download e extração do conjunto de dados do projeto Tatoeba. Esse projeto consiste na compilação de traduções diretas de inúmeras frases de um idioma para outro."
      ],
      "metadata": {
        "id": "JzxuP8UvKohe"
      },
      "id": "JzxuP8UvKohe"
    },
    {
      "cell_type": "code",
      "execution_count": 1,
      "id": "245213f7-370f-426d-8e96-973018d07a98",
      "metadata": {
        "colab": {
          "base_uri": "https://localhost:8080/"
        },
        "id": "245213f7-370f-426d-8e96-973018d07a98",
        "outputId": "eb15f07b-a7d0-48fe-d45a-5cb85a854276"
      },
      "outputs": [
        {
          "output_type": "stream",
          "name": "stdout",
          "text": [
            "  % Total    % Received % Xferd  Average Speed   Time    Time     Time  Current\n",
            "                                 Dload  Upload   Total   Spent    Left  Speed\n",
            "100 4443k  100 4443k    0     0  1924k      0  0:00:02  0:00:02 --:--:-- 1924k\n",
            "Archive:  jpn-eng.zip\n",
            "  inflating: jpn.txt                 \n",
            "  inflating: _about.txt              \n"
          ]
        }
      ],
      "source": [
        "!curl \"https://www.manythings.org/anki/jpn-eng.zip\" -o \"jpn-eng.zip\"\n",
        "!unzip *.zip"
      ]
    },
    {
      "cell_type": "code",
      "execution_count": 2,
      "id": "be16a52c-6619-42cf-a75b-d86738f3169c",
      "metadata": {
        "colab": {
          "base_uri": "https://localhost:8080/"
        },
        "id": "be16a52c-6619-42cf-a75b-d86738f3169c",
        "outputId": "18dab5e4-13d7-44aa-eae8-99840dd69d72"
      },
      "outputs": [
        {
          "output_type": "stream",
          "name": "stdout",
          "text": [
            "** Info **\n",
            "\n",
            "Check for newest version here:\n",
            "  http://www.manythings.org/anki/\n",
            "Date of this file:\n",
            "  2024-06-23\n",
            "\n",
            "This data is from the sentences_detailed.csv file from tatoeba.org.\n",
            "http://tatoeba.org/files/downloads/sentences_detailed.csv\n",
            "\n"
          ]
        }
      ],
      "source": [
        "!head \"_about.txt\""
      ]
    },
    {
      "cell_type": "markdown",
      "source": [
        "## Pré-processamento\n",
        "\n",
        "A função`preproc` foi definida para limpar as sentenças, removendo espaços extras, convertendo para minúsculas e adicionando espaços em torno de pontuações específicas (como 。 ou 、). Este passo é importante porque facilita a tokenização, que é a divisão do texto em palavras significativas.\n",
        "\n",
        "A função `tokenize` usa a expressão regular \\S+ para dividir as sentenças em tokens (palavras) que são não-espaços. Essa abordagem é comum em idiomas como o inglês, onde os espaços são delimitadores naturais de palavras. Para o japonês, a tokenização pode ser mais desafiadora, como discutido na segunda pergunta, que será respondida posteriomente no notebook."
      ],
      "metadata": {
        "id": "uy1WP1ODLGkD"
      },
      "id": "uy1WP1ODLGkD"
    },
    {
      "cell_type": "code",
      "execution_count": 3,
      "id": "e7f9ed95-8515-488f-a6c2-2b76828e53a0",
      "metadata": {
        "id": "e7f9ed95-8515-488f-a6c2-2b76828e53a0"
      },
      "outputs": [],
      "source": [
        "import pandas as pd\n",
        "import re\n",
        "from string import punctuation"
      ]
    },
    {
      "cell_type": "code",
      "execution_count": 4,
      "id": "9333748e-c343-4d37-a88f-54f301a1774f",
      "metadata": {
        "id": "9333748e-c343-4d37-a88f-54f301a1774f"
      },
      "outputs": [],
      "source": [
        "data = list(map(\n",
        "    lambda i: i.split(\"\\t\")[:2],\n",
        "    open(\"jpn.txt\", \"r\").readlines()\n",
        "))\n",
        "df = pd.DataFrame(\n",
        "    data=data,\n",
        "    columns=[\"English\", \"Japanese\"],\n",
        ")"
      ]
    },
    {
      "cell_type": "code",
      "execution_count": 5,
      "id": "976d81df-3ca9-4de3-b1f1-9529e841a2a0",
      "metadata": {
        "scrolled": true,
        "id": "976d81df-3ca9-4de3-b1f1-9529e841a2a0"
      },
      "outputs": [],
      "source": [
        "def preproc(s):\n",
        "    \"\"\"\n",
        "    Preprocess the input sentence by performing the following:\n",
        "    - Strips whitespace from the beginning and end of the string.\n",
        "    - Converts the string to lowercase.\n",
        "    - Replaces multiple spaces with a single space.\n",
        "    - Adds spaces around punctuation marks (from the Japanese punctuation set).\n",
        "\n",
        "    Args:\n",
        "    - s (str): The input sentence to be preprocessed.\n",
        "\n",
        "    Returns:\n",
        "    - str: The preprocessed sentence.\n",
        "    \"\"\"\n",
        "    PUNCTUATION = punctuation + \"。！？、「」、\"\n",
        "    s = s.strip().lower()\n",
        "    s = re.sub(r'\\s+', ' ', s)\n",
        "    s = re.sub(f'([{re.escape(PUNCTUATION)}])', r' \\1 ', s)\n",
        "    s = s.strip()\n",
        "\n",
        "    return s\n",
        "\n",
        "tokenize = lambda s: re.findall(r'\\S+', s)\n",
        "tokenize.__doc__ = \"\"\"\n",
        "Tokenizes a sentence into a list of non-space tokens.\n",
        "\n",
        "Args:\n",
        "- s (str): The input sentence to tokenize.\n",
        "\n",
        "Returns:\n",
        "- list: A list of words/tokens.\n",
        "\"\"\""
      ]
    },
    {
      "cell_type": "code",
      "execution_count": 6,
      "id": "a6291a97-9a0b-42f6-b515-2aefd22063ac",
      "metadata": {
        "id": "a6291a97-9a0b-42f6-b515-2aefd22063ac"
      },
      "outputs": [],
      "source": [
        "from matplotlib import pyplot as plt"
      ]
    },
    {
      "cell_type": "code",
      "execution_count": 7,
      "id": "99e29e88-c108-4750-b7e3-3790b2e01932",
      "metadata": {
        "colab": {
          "base_uri": "https://localhost:8080/",
          "height": 472
        },
        "id": "99e29e88-c108-4750-b7e3-3790b2e01932",
        "outputId": "eea89c29-7ffa-4c7b-ca55-0f0b9ac07dfc"
      },
      "outputs": [
        {
          "output_type": "display_data",
          "data": {
            "text/plain": [
              "<Figure size 640x480 with 1 Axes>"
            ],
            "image/png": "[encoded data removed]"
          },
          "metadata": {}
        }
      ],
      "source": [
        "english_lengths = [len(tokenize(preproc(text))) for text in df['English']]\n",
        "japanese_lengths = [len(tokenize(preproc(text))) for text in df['Japanese']]\n",
        "\n",
        "plt.hist(english_lengths, bins=20, alpha=0.5, label='English', color='b')\n",
        "plt.hist(japanese_lengths, bins=20, alpha=0.5, label='Japanese', color='r')\n",
        "\n",
        "plt.xlabel('Number of Tokens per Sentence')\n",
        "plt.ylabel('Frequency')\n",
        "plt.title('Histogram of Number of Tokens per Sentence: English vs Japanese')\n",
        "\n",
        "plt.legend()\n",
        "\n",
        "plt.show()\n",
        "del english_lengths, japanese_lengths"
      ]
    },
    {
      "cell_type": "markdown",
      "source": [
        "## Obtenção do dataset para treinamento\n",
        "\n",
        "Nessa seção foram definidas algumas funções importantes para produzir um dataset tensorflow, que pode ser utilizado para a criãção de modelos de AI para tradução direta. Abaixo está a descrição das funções definidas:\n",
        "\n",
        "- A função `get_vocab` gera uma lista de palavras únicas, ordenadas, a partir das sentenças em inglês e japonês.\n",
        "- A função `get_indices` converte as palavras das sentenças em índices, associando cada palavra a um número específico, com a introdução de tokens especiais (`<PAD>` e `<UNK>`).\n",
        "- A função `pad_trunc` usa a função pad_sequences do Keras para garantir que todas as sentenças tenham o mesmo tamanho (definido por `MAX_LEN`), adicionando preenchimento (PAD) ou cortando as sentenças muito longas.\n",
        "- A função `load_data_nmt` organiza os dados em lotes (batch) para treinamento de modelos de tradução automática, e retorna o dataset pré-processado, pronto para ser usado com TensorFlow."
      ],
      "metadata": {
        "id": "pjeIDMq9LfjR"
      },
      "id": "pjeIDMq9LfjR"
    },
    {
      "cell_type": "code",
      "source": [
        "import tensorflow as tf\n",
        "import numpy as np"
      ],
      "metadata": {
        "id": "jaerNO3Qm_Nq"
      },
      "id": "jaerNO3Qm_Nq",
      "execution_count": 8,
      "outputs": []
    },
    {
      "cell_type": "code",
      "source": [
        "MAX_LEN = 50\n",
        "\n",
        "\n",
        "get_vocab = lambda df: sorted(\n",
        "    set(\n",
        "        [\n",
        "            word\n",
        "            for sentence in [tokenize(preproc(sentence)) for sentence in df]\n",
        "            for word in sentence\n",
        "        ]\n",
        "    )\n",
        ")\n",
        "get_vocab.__doc__ = \"\"\"\n",
        "Generates a sorted vocabulary of unique words from the provided dataset.\n",
        "\n",
        "Args:\n",
        "- df (list): A list of sentences in the dataset.\n",
        "\n",
        "Returns:\n",
        "- list: A sorted list of unique words in the dataset.\n",
        "\"\"\"\n",
        "\n",
        "def get_indexed_vocab(vocab):\n",
        "    \"\"\"\n",
        "    Assigns each word in the vocabulary a unique index, starting from 2.\n",
        "    Special tokens <PAD> and <UNK> are assigned indices 0 and 1, respectively.\n",
        "\n",
        "    Args:\n",
        "    - vocab (list): A list of unique words in the vocabulary.\n",
        "\n",
        "    Returns:\n",
        "    - dict: A dictionary mapping words to their corresponding indices.\n",
        "    \"\"\"\n",
        "    indexed = {\"<PAD>\": 0, \"<UNK>\": 1}\n",
        "    indexed.update({word: idx + 2 for idx, word in enumerate(vocab)})\n",
        "    return indexed\n",
        "\n",
        "\n",
        "def get_indices(indexed_vocab, sentences):\n",
        "    \"\"\"\n",
        "    Converts a list of sentences into their corresponding index representation\n",
        "    based on the provided indexed vocabulary. Words not found in the vocabulary\n",
        "    are replaced by the <UNK> token.\n",
        "\n",
        "    Args:\n",
        "    - indexed_vocab (dict): A dictionary mapping words to their corresponding indices.\n",
        "    - sentences (list): A list of sentences to convert.\n",
        "\n",
        "    Returns:\n",
        "    - list: A list of sentences, where each sentence is a list of word indices.\n",
        "    \"\"\"\n",
        "    return [\n",
        "        [\n",
        "            indexed_vocab.get(word, indexed_vocab[\"<UNK>\"])\n",
        "            for word in tokenize(preproc(sentence))\n",
        "        ]\n",
        "        for sentence in sentences\n",
        "    ]\n",
        "\n",
        "\n",
        "pad_trunc = (\n",
        "    lambda indexed_vocab, indices: tf.keras.preprocessing.sequence.pad_sequences(\n",
        "        indices, maxlen=MAX_LEN, padding=\"post\", value=indexed_vocab[\"<PAD>\"]\n",
        "    )\n",
        ")\n",
        "pad_trunc.__doc__ = \"\"\"\n",
        "Pads or truncates each sentence in the indices list to a fixed length (MAX_LEN).\n",
        "\n",
        "Args:\n",
        "- indexed_vocab (dict): A dictionary mapping words to their corresponding indices.\n",
        "- indices (list): A list of sentences, where each sentence is a list of word indices.\n",
        "\n",
        "Returns:\n",
        "- list: A list of padded/truncated sentences.\n",
        "\"\"\"\n",
        "\n",
        "\n",
        "def load_data_nmt(\n",
        "    english_dataset, japanese_dataset, max_len=MAX_LEN, batch_size=2, num_steps=8\n",
        "):\n",
        "    \"\"\"\n",
        "    Loads and processes the English and Japanese datasets for Neural Machine Translation (NMT).\n",
        "    This includes indexing the vocabularies, padding the sentences, and batching the data.\n",
        "\n",
        "    Args:\n",
        "    - english_dataset (list): A list of English sentences.\n",
        "    - japanese_dataset (list): A list of Japanese sentences.\n",
        "    - max_len (int, optional): The maximum length of the sentences after padding/truncation. Default is 50.\n",
        "    - batch_size (int, optional): The size of each batch of data. Default is 2.\n",
        "    - num_steps (int, optional): The number of steps (batches) to return from the dataset. Default is 8.\n",
        "\n",
        "    Returns:\n",
        "    - tf.data.Dataset: A TensorFlow dataset containing the padded English and Japanese sentences\n",
        "                        along with their corresponding valid lengths.\n",
        "    \"\"\"\n",
        "    indexed_vocab = {\n",
        "        \"English\": get_indexed_vocab(get_vocab(english_dataset)),\n",
        "        \"Japanese\": get_indexed_vocab(get_vocab(japanese_dataset)),\n",
        "    }\n",
        "\n",
        "    indices = {\n",
        "        \"English\": get_indices(indexed_vocab[\"English\"], english_dataset),\n",
        "        \"Japanese\": get_indices(indexed_vocab[\"Japanese\"], japanese_dataset),\n",
        "    }\n",
        "\n",
        "    padded = {\n",
        "        \"English\": pad_trunc(indexed_vocab[\"English\"], indices[\"English\"]),\n",
        "        \"Japanese\": pad_trunc(indexed_vocab[\"Japanese\"], indices[\"Japanese\"]),\n",
        "    }\n",
        "\n",
        "    valid_len = {\n",
        "        \"English\": np.array(\n",
        "            [min(len(sentence), max_len) for sentence in indices[\"English\"]]\n",
        "        ),\n",
        "        \"Japanese\": np.array(\n",
        "            [min(len(sentence), max_len) for sentence in indices[\"Japanese\"]]\n",
        "        ),\n",
        "    }\n",
        "\n",
        "    dataset = tf.data.Dataset.from_tensor_slices(\n",
        "        (\n",
        "            padded[\"English\"],\n",
        "            valid_len[\"English\"],\n",
        "            padded[\"Japanese\"],\n",
        "            valid_len[\"Japanese\"],\n",
        "        )\n",
        "    )\n",
        "    dataset = dataset.shuffle(1000).batch(batch_size).take(num_steps)\n",
        "\n",
        "    return dataset, indices\n"
      ],
      "metadata": {
        "id": "z2-QLY4V-B44"
      },
      "id": "z2-QLY4V-B44",
      "execution_count": 12,
      "outputs": []
    },
    {
      "cell_type": "code",
      "source": [
        "train_iter, _ = load_data_nmt(\n",
        "    df[\"English\"].values, df[\"Japanese\"].values, batch_size=2, num_steps=8\n",
        ")\n",
        "\n",
        "for X, X_valid_len, Y, Y_valid_len in train_iter:\n",
        "    print(\"X:\", tf.cast(X, tf.int32))\n",
        "    print(\"valid lengths for X:\", X_valid_len)\n",
        "    print(\"Y:\", tf.cast(Y, tf.int32))\n",
        "    print(\"valid lengths for Y:\", Y_valid_len)\n",
        "    break"
      ],
      "metadata": {
        "colab": {
          "base_uri": "https://localhost:8080/"
        },
        "id": "ghpN1SVsaI75",
        "outputId": "e398a028-3bac-48ca-99da-2fc6e7a76793"
      },
      "id": "ghpN1SVsaI75",
      "execution_count": 13,
      "outputs": [
        {
          "output_type": "stream",
          "name": "stdout",
          "text": [
            "X: tf.Tensor(\n",
            "[[ 4145 10638    11     0     0     0     0     0     0     0     0     0\n",
            "      0     0     0     0     0     0     0     0     0     0     0     0\n",
            "      0     0     0     0     0     0     0     0     0     0     0     0\n",
            "      0     0     0     0     0     0     0     0     0     0     0     0\n",
            "      0     0]\n",
            " [ 4678 10638    11     0     0     0     0     0     0     0     0     0\n",
            "      0     0     0     0     0     0     0     0     0     0     0     0\n",
            "      0     0     0     0     0     0     0     0     0     0     0     0\n",
            "      0     0     0     0     0     0     0     0     0     0     0     0\n",
            "      0     0]], shape=(2, 50), dtype=int32)\n",
            "valid lengths for X: tf.Tensor([3 3], shape=(2,), dtype=int64)\n",
            "Y: tf.Tensor(\n",
            "[[37952   391     0     0     0     0     0     0     0     0     0     0\n",
            "      0     0     0     0     0     0     0     0     0     0     0     0\n",
            "      0     0     0     0     0     0     0     0     0     0     0     0\n",
            "      0     0     0     0     0     0     0     0     0     0     0     0\n",
            "      0     0]\n",
            " [37949   391     0     0     0     0     0     0     0     0     0     0\n",
            "      0     0     0     0     0     0     0     0     0     0     0     0\n",
            "      0     0     0     0     0     0     0     0     0     0     0     0\n",
            "      0     0     0     0     0     0     0     0     0     0     0     0\n",
            "      0     0]], shape=(2, 50), dtype=int32)\n",
            "valid lengths for Y: tf.Tensor([2 2], shape=(2,), dtype=int64)\n"
          ]
        }
      ]
    },
    {
      "cell_type": "markdown",
      "source": [
        "# Respondendo perguntas\n",
        "\n",
        "> Tente valores diferentes do argumento num_examples na funçãoload_data_nmt. Como isso afeta os tamanhos do vocabulário do idioma de origem e do idioma de destino?\n",
        "\n",
        "RES: Se você passar um número menor de exemplos (por exemplo `num_examples = 200`), o vocabulário será menor, pois menos palavras únicas estarão presentes. O efeito contrário acontece se são passados mais exemplos.\n",
        "\n",
        "> O texto em alguns idiomas, como chinês e japonês, não tem indicadores de limite de palavras (por exemplo, espaço). A tokenização em nível de palavra ainda é uma boa ideia para esses casos? Por que ou por que não?\n",
        "\n",
        "RES: Nesses idiomas, as palavras não são separadas por espaços. Isso dificulta a tokenização em nível de palavra. O processo precisa segmentar os caracteres em palavras significativas. Para isso, seria necessário usar algum outro tipo de biblioteca. Entretanto, como visto no notebook, separar usando espaços com línguas como o japonês ainda é possivel, ainda que o resultado da tokenização seja menos preciso.\n"
      ],
      "metadata": {
        "id": "dIyMIzYbEncs"
      },
      "id": "dIyMIzYbEncs"
    },
    {
      "cell_type": "code",
      "source": [
        "examples = 200\n",
        "print(f\"{examples} exemplos\")\n",
        "\n",
        "print(f\"Len vocabulário: {len(get_vocab(df['English'][:examples].values)), len(get_vocab(df['Japanese'][:examples].values))}\\n\")\n",
        "\n",
        "examples = 1000\n",
        "print(f\"{examples} exemplos\")\n",
        "\n",
        "print(f\"Len vocabulário: {len(get_vocab(df['English'][:examples].values)), len(get_vocab(df['Japanese'][:examples].values))}\")"
      ],
      "metadata": {
        "colab": {
          "base_uri": "https://localhost:8080/"
        },
        "id": "LmcHkIN3GEqe",
        "outputId": "e9105d0b-3abe-45d2-a5ca-e024210cbd00"
      },
      "id": "LmcHkIN3GEqe",
      "execution_count": 21,
      "outputs": [
        {
          "output_type": "stream",
          "name": "stdout",
          "text": [
            "200 exemplos\n",
            "Len vocabulário: (79, 177)\n",
            "\n",
            "1000 exemplos\n",
            "Len vocabulário: (386, 809)\n"
          ]
        }
      ]
    },
    {
      "cell_type": "code",
      "source": [
        "english_dataset = df['English'].values\n",
        "japanese_dataset = df['Japanese'].values\n",
        "\n",
        "indexed_vocab = {\n",
        "    \"English\": get_indexed_vocab(get_vocab(english_dataset)),\n",
        "    \"Japanese\": get_indexed_vocab(get_vocab(japanese_dataset)),\n",
        "}\n",
        "\n",
        "indices = {\n",
        "    \"English\": get_indices(indexed_vocab[\"English\"], english_dataset),\n",
        "    \"Japanese\": get_indices(indexed_vocab[\"Japanese\"], japanese_dataset),\n",
        "}\n",
        "\n",
        "padded = {\n",
        "    \"English\": pad_trunc(indexed_vocab[\"English\"], indices[\"English\"]),\n",
        "    \"Japanese\": pad_trunc(indexed_vocab[\"Japanese\"], indices[\"Japanese\"]),\n",
        "}\n",
        "\n",
        "print(\"English: \", padded[\"English\"][0], padded[\"English\"][0].shape)\n",
        "print(\"Japanese: \", padded[\"Japanese\"][0], padded[\"Japanese\"][0].shape)"
      ],
      "metadata": {
        "colab": {
          "base_uri": "https://localhost:8080/"
        },
        "id": "yUYTeQvNJOYP",
        "outputId": "bf8be43e-0a2c-41a3-d7d7-8b1e6c15c650"
      },
      "id": "yUYTeQvNJOYP",
      "execution_count": 23,
      "outputs": [
        {
          "output_type": "stream",
          "name": "stdout",
          "text": [
            "English:  [4628   11    0    0    0    0    0    0    0    0    0    0    0    0\n",
            "    0    0    0    0    0    0    0    0    0    0    0    0    0    0\n",
            "    0    0    0    0    0    0    0    0    0    0    0    0    0    0\n",
            "    0    0    0    0    0    0    0    0] (50,)\n",
            "Japanese:  [90301   391     0     0     0     0     0     0     0     0     0     0\n",
            "     0     0     0     0     0     0     0     0     0     0     0     0\n",
            "     0     0     0     0     0     0     0     0     0     0     0     0\n",
            "     0     0     0     0     0     0     0     0     0     0     0     0\n",
            "     0     0] (50,)\n"
          ]
        }
      ]
    }
  ],
  "metadata": {
    "kernelspec": {
      "display_name": "Python 3",
      "name": "python3"
    },
    "language_info": {
      "codemirror_mode": {
        "name": "ipython",
        "version": 3
      },
      "file_extension": ".py",
      "mimetype": "text/x-python",
      "name": "python",
      "nbconvert_exporter": "python",
      "pygments_lexer": "ipython3",
      "version": "3.13.2"
    },
    "colab": {
      "provenance": [],
      "gpuType": "T4"
    },
    "accelerator": "GPU"
  },
  "nbformat": 4,
  "nbformat_minor": 5
}