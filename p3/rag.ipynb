{
 "cells": [
  {
   "cell_type": "markdown",
   "id": "778f4019-2f77-465b-a9aa-35f568e1ea0c",
   "metadata": {},
   "source": [
    "# RAG Using Pre-trained model\n",
    "\n",
    "In this notebook, **Retrieval-Augmented Generation (RAG)** will be implemented using a pre-trained model, leveraging **cosine similarity** for document retrieval. The goal is to improve the model's responses by augmenting it with relevant, external information retrieved from a document corpus.\n",
    "\n",
    "### Overview of the Steps:\n",
    "\n",
    "1. **Set Up Corpus**: This involves preparing a collection of documents that the retrieval system will search through to find relevant information when a query is made.\n",
    "1. **Index Documents**: The corpus of documents will be indexed and embedded to facilitate efficient retrieval.\n",
    "1. **Set Up Retrieval System**: A retrieval mechanism will be established, using cosine similarity to identify relevant documents from a corpus.\n",
    "1. **Load Pre-trained Model**: A generative model will be loaded for response generation.\n",
    "1. **Retrieve Relevant Information**: Cosine similarity will be used to query the indexed documents and fetch the most relevant ones.\n",
    "1. **Generate Response**: The generative model will produce a response, utilizing the retrieved documents as context.\n",
    "\n",
    "The following sections will delve into the detailed implementation of each step."
   ]
  },
  {
   "cell_type": "markdown",
   "id": "cbc33c85-95ba-4c34-baeb-7eb08d089cc4",
   "metadata": {},
   "source": [
    "## Setting Up Corpus\n",
    "\n",
    "The corpus will be created using Wikipedia summaries for three articles:\n",
    "\n",
    "- **[C programming language](https://en.wikipedia.org/wiki/C_%28programming_language%29)**\n",
    "- **[Bouldering](https://en.wikipedia.org/wiki/Bouldering)**\n",
    "- **[Island](https://en.wikipedia.org/wiki/Island)**\n",
    "\n",
    "### Steps:\n",
    "\n",
    "1. **Retrieve Summaries**: Use the Wikipedia API to fetch the summary text for the above articles.\n",
    "1. **Create Corpus**: Organize the preprocessed summaries into a list of documents.\n",
    "\n",
    "Because it is using fewer context, this setup reduces token count for faster processing, though it may slightly lower retrieval accuracy."
   ]
  },
  {
   "cell_type": "code",
   "execution_count": 2,
   "id": "eec81225-c336-4266-96bc-3909e4dc2af9",
   "metadata": {},
   "outputs": [],
   "source": [
    "import wikipedia as wp"
   ]
  },
  {
   "cell_type": "code",
   "execution_count": 29,
   "id": "24bf5009-c76e-4b33-8340-1e6f7cd4dd61",
   "metadata": {},
   "outputs": [],
   "source": [
    "corpus = list(map(lambda i: i.summary, [\n",
    "    wp.page(\"C (programming language)\"),\n",
    "    wp.page(\"Bouldering\"),\n",
    "    wp.page(\"Ireland\"),\n",
    "]))"
   ]
  },
  {
   "cell_type": "code",
   "execution_count": 30,
   "id": "b26c9071",
   "metadata": {},
   "outputs": [
    {
     "name": "stdout",
     "output_type": "stream",
     "text": [
      "C (pronounced  – like the letter c) is a general-purpose programming language\n",
      "Bouldering is a form of rock climbing that is performed on small rock formations or artificial rock walls without the use of ropes or harnesses\n",
      "An island or isle is a piece of land, distinct from a continent, completely surrounded by water\n"
     ]
    }
   ],
   "source": [
    "for i in corpus:\n",
    "    print(i[:i.find(\".\")])"
   ]
  },
  {
   "cell_type": "markdown",
   "id": "10f9347a-f2cb-436e-ac3f-e5d57d366ea9",
   "metadata": {},
   "source": [
    "## Embedding the Corpus\n",
    "\n",
    "In this step, the corpus will be embedded using **Llama 2** via **Ollama**. The goal is to transform the Wikipedia summaries into vector representations that can later be used for querying.\n",
    "\n",
    "### Steps:\n",
    "\n",
    "1. **Load Llama 2 with Ollama**: Use Ollama to load the Llama 2 model for embedding generation.\n",
    "1. **Generate Embeddings**: Use Llama 2 to embed each document in the corpus into a vector representation. Each document (summary) will have its own embedding.\n",
    "1. **Store Embeddings**: Save the document embeddings, which will serve as the reference for future retrieval.\n",
    "1. **Query Embedding**: When a query is made, the same model (Llama 2) will embed the query into a vector.\n",
    "1. **Cosine Similarity**: Use cosine similarity to compare the query embedding with the document embeddings, retrieving the most relevant document based on the highest similarity score.\n",
    "\n",
    "This approach ensures efficient retrieval by using embeddings and cosine similarity to find the best matching document for any given query."
   ]
  },
  {
   "cell_type": "code",
   "execution_count": 31,
   "id": "2f937f63-fbaf-4ae7-94cd-cb2986d2b9cc",
   "metadata": {},
   "outputs": [],
   "source": [
    "import ollama as ol"
   ]
  },
  {
   "cell_type": "code",
   "execution_count": 32,
   "id": "208e1e0a-e764-41f9-ba5d-689dbd1e5220",
   "metadata": {},
   "outputs": [],
   "source": [
    "embeddings = list(map(lambda i: ol.embed(model=\"llama2\", input=i), corpus))"
   ]
  },
  {
   "cell_type": "code",
   "execution_count": 40,
   "id": "49e74eff-b9ea-4a68-a676-0c7dec20c9ad",
   "metadata": {},
   "outputs": [],
   "source": [
    "from sklearn.metrics.pairwise import cosine_similarity\n",
    "import numpy as np"
   ]
  },
  {
   "cell_type": "code",
   "execution_count": 108,
   "id": "bf70f394-61e4-4400-8b29-59067dece0a4",
   "metadata": {},
   "outputs": [],
   "source": [
    "def get_relevant(q, verbose=False):\n",
    "    get_relevant.embeddings = np.vstack([np.array(i.embeddings) for i in embeddings])\n",
    "    sim = cosine_similarity(\n",
    "        ol.embed(model=\"llama2\", input=q).embeddings,\n",
    "        get_relevant.embeddings)\n",
    "    if verbose:\n",
    "        print(sim)\n",
    "    return corpus[np.argmax(sim)]"
   ]
  },
  {
   "cell_type": "markdown",
   "id": "6df592b1-7aa1-498b-92bf-caa904c70d1c",
   "metadata": {},
   "source": [
    "## Contextualizing Prompts. w/ RAG\n",
    "\n",
    "In this step, we apply **Retrieval-Augmented Generation (RAG)** by using the most relevant document from the corpus as context for the model's response. This allows the model to generate more accurate answers by incorporating external information into the prompt.\n",
    "\n",
    "### Steps:\n",
    "\n",
    "1. **Query the Most Relevant Document**: Based on the user's query, the system retrieves the most relevant document from the corpus using the previously embedded documents and cosine similarity.\n",
    "   \n",
    "1. **Add Document as Context**: The retrieved document is then added to the query as context in the model’s prompt. This gives the model additional information to generate a more informed response.\n",
    "\n",
    "1. **Model Generates Response**: The pre-trained model (e.g., Llama 2) uses this augmented prompt to generate a response. It's important to note that this process doesn't alter the model's weights; instead, it **modifies the state** of the model by providing richer context within the prompt.\n",
    "\n",
    "By adding this external context, the model can generate answers that are more relevant and aligned with the retrieved information, enhancing its performance without needing to modify its internal parameters."
   ]
  },
  {
   "cell_type": "code",
   "execution_count": 125,
   "id": "d8083c3f-0f68-4772-b3e0-33f0ead779e6",
   "metadata": {},
   "outputs": [],
   "source": [
    "def get_prompt(p, verbose=False):\n",
    "    prompt = f\"Question: {p}\\nAccording to valid sources: {get_relevant(p)}\\nAnswer: \"\n",
    "    \n",
    "def get_response(p, verbose=False): \n",
    "    res = ol.chat(\n",
    "        model='llama2', \n",
    "        messages=[{ 'role': 'user', 'content': get_prompt(p, verbose=verbose) }])\n",
    "    return res.message.content"
   ]
  },
  {
   "cell_type": "markdown",
   "id": "b97b3559-09ed-4897-8392-d4dff5433232",
   "metadata": {},
   "source": [
    "## Testing"
   ]
  },
  {
   "cell_type": "code",
   "execution_count": 132,
   "id": "a28c819b-ce75-4b62-b2ea-835beb7554df",
   "metadata": {
    "scrolled": true
   },
   "outputs": [
    {
     "name": "stdin",
     "output_type": "stream",
     "text": [
      "Enter your prompt:  I want to live in a place sorrounded by water, which place should I live?\n"
     ]
    },
    {
     "name": "stdout",
     "output_type": "stream",
     "text": [
      "[[-0.06807114 -0.00496201  0.16959977]]\n",
      "Question: I want to live in a place sorrounded by water, which place should I live?\n",
      "According to valid sources: An island or isle is a piece of land, distinct from a continent, completely surrounded by water. There are continental islands, which were formed by being split from a continent by plate tectonics, and oceanic islands, which have never been part of a continent. Oceanic islands can be formed from volcanic activity, grow into atolls from coral reefs, and form from sediment along shorelines, creating barrier islands. River islands can also form from sediment and debris in rivers. Artificial islands are those made by humans, including small rocky outcroppings built out of lagoons and large-scale land reclamation projects used for development.\n",
      "Islands are host to diverse plant and animal life. Oceanic islands have the sea as a natural barrier to the introduction of new species, causing the species that do reach the island to evolve in isolation. Continental islands share animal and plant life with the continent they split from. Depending on how long ago the continental island formed, the life on that island may have diverged greatly from the mainland due to natural selection.\n",
      "Humans have lived on and traveled between islands for thousands of years at a minimum. Some islands became host to humans due to a land bridge or a continental island splitting from the mainland, or by boat travel. In the far north or south some islands are joined by seasonal or glacial ice. Today, up to 10% of the world's population lives on islands. Islands are popular targets for tourism due to their perceived natural beauty, isolation, and unique cultures.\n",
      "Islands became the target of colonization by Europeans, resulting in the majority of islands in the Pacific being put under European control. Decolonization has resulted in some but not all island nations becoming self-governing, with lasting effects related to industrialisation, invasive species, nuclear weapons testing, and tourism. Islands and island countries are threatened by climate change. Sea level rise threatens to submerge nations such as Maldives, the Marshall Islands, and Tuvalu completely. Increases in the frequency and intensity of tropical cyclones can cause widespread destruction of infrastructure and animal habitats. Species that live exclusively on islands are some of those most threatened by extinction.\n",
      "Answer: \n"
     ]
    },
    {
     "data": {
      "text/plain": [
       "\"Based on your interest in living in a place surrounded by water, here are some options to consider:\\n\\n1. Oceanic Islands: These are islands that have never been part of a continent and are formed through volcanic activity, coral reef growth, or sediment deposition along shorelines. Examples include Hawaii, Bali, and the Maldives.\\n2. Continental Islands: These are islands that were once part of a continent but have since been separated by plate tectonics. Examples include Great Britain, Honshu (Japan), and the Australian mainland.\\n3. River Islands: These are formed through sediment deposition in rivers and can be found in various locations around the world. Examples include the Thousand Islands in Canada and New York State, and the Sunderbans in India and Bangladesh.\\n4. Artificial Islands: These are islands created by humans through land reclamation projects or small rocky outcroppings built out of lagoons. Examples include the Palm Jumeirah in Dubai and the man-made islands of Singapore.\\n5. Small Rocky Outcroppings: These are small, rocky formations that have been formed by geological processes and can be found in various locations around the world. Examples include the Isles of Scilly off the coast of England and the Chatham Islands off the coast of New Zealand.\\n\\nWhen choosing an island to live on, it's important to consider factors such as climate, economy, infrastructure, and cultural norms. Some islands may have a more relaxed pace of life, while others may be more densely populated and urbanized. Additionally, some islands may have unique plant and animal life that could make for interesting and diverse wildlife viewing opportunities.\\n\\nIt's also worth noting that many island nations have experienced colonization and decolonization, which have had lasting effects on their cultures, economies, and political systems. Today, many islands are facing threats such as climate change, sea level rise, and the introduction of invasive species. As a result, it's important to be mindful of the impact that living on an island can have on both the local environment and the global community.\""
      ]
     },
     "execution_count": 132,
     "metadata": {},
     "output_type": "execute_result"
    }
   ],
   "source": [
    "prompt = input(\"Enter your prompt: \")\n",
    "get_response(prompt, verbose=True)"
   ]
  },
  {
   "cell_type": "code",
   "execution_count": 138,
   "id": "aed73d99-0f43-4eb3-8f37-c1244396d062",
   "metadata": {
    "scrolled": true
   },
   "outputs": [
    {
     "name": "stdin",
     "output_type": "stream",
     "text": [
      "Enter your prompt:  What language was created in the 1970s by Dennis Ritchie? I know It has found lasting use in operating systems code, device drivers, and protocol stacks.\n"
     ]
    },
    {
     "name": "stdout",
     "output_type": "stream",
     "text": [
      "[[0.04373466 0.04111786 0.02356716]]\n",
      "Question: What language was created in the 1970s by Dennis Ritchie? I know It has found lasting use in operating systems code, device drivers, and protocol stacks.\n",
      "According to valid sources: C (pronounced  – like the letter c) is a general-purpose programming language. It was created in the 1970s by Dennis Ritchie and remains very widely used and influential. By design, C's features cleanly reflect the capabilities of the targeted CPUs. It has found lasting use in operating systems code (especially in kernels), device drivers, and protocol stacks, but its use in application software has been decreasing. C is commonly used on computer architectures that range from the largest supercomputers to the smallest microcontrollers and embedded systems.\n",
      "A successor to the programming language B, C was originally developed at Bell Labs by Ritchie between 1972 and 1973 to construct utilities running on Unix. It was applied to re-implementing the kernel of the Unix operating system. During the 1980s, C gradually gained popularity. It has become one of the most widely used programming languages, with C compilers available for practically all modern computer architectures and operating systems. The book The C Programming Language, co-authored by the original language designer, served for many years as the de facto standard for the language. C has been standardized since 1989 by the American National Standards Institute (ANSI) and, subsequently, jointly by the International Organization for Standardization (ISO) and the International Electrotechnical Commission (IEC).\n",
      "C is an imperative procedural language, supporting structured programming, lexical variable scope, and recursion, with a static type system. It was designed to be compiled to provide low-level access to memory and language constructs that map efficiently to machine instructions, all with minimal runtime support. Despite its low-level capabilities, the language was designed to encourage cross-platform programming. A standards-compliant C program written with portability in mind can be compiled for a wide variety of computer platforms and operating systems with few changes to its source code.\n",
      "Since 2000, C has consistently ranked among the top four languages in the TIOBE index, a measure of the popularity of programming languages.\n",
      "\n",
      "\n",
      "Answer: \n"
     ]
    },
    {
     "data": {
      "text/plain": [
       "'The language created by Dennis Ritchie in the 1970s is C.'"
      ]
     },
     "execution_count": 138,
     "metadata": {},
     "output_type": "execute_result"
    }
   ],
   "source": [
    "prompt = input(\"Enter your prompt: \")\n",
    "get_response(prompt, verbose=True)"
   ]
  }
 ],
 "metadata": {
  "kernelspec": {
   "display_name": "Python 3 (ipykernel)",
   "language": "python",
   "name": "python3"
  },
  "language_info": {
   "codemirror_mode": {
    "name": "ipython",
    "version": 3
   },
   "file_extension": ".py",
   "mimetype": "text/x-python",
   "name": "python",
   "nbconvert_exporter": "python",
   "pygments_lexer": "ipython3",
   "version": "3.11.6"
  }
 },
 "nbformat": 4,
 "nbformat_minor": 5
}
