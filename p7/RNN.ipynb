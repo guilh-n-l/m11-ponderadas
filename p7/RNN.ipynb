{
 "cells": [
  {
   "cell_type": "markdown",
   "id": "f40c7104-49ab-4333-bc42-6ae9832ef7f3",
   "metadata": {},
   "source": [
    "Implementation of Recurrent Neural Networks for Stock Price Prediction\n",
    "===\n",
    "\n",
    "In this project, we aim to implement a Recurrent Neural Network (RNN) model to predict Amazon stock prices using historical data. Stock price prediction is a well-known time series problem, where the goal is to forecast future stock prices based on past price movements. The stock market is highly volatile, making this task both challenging and interesting for machine learning applications.\n",
    "\n",
    "We use a dataset containing Amazon's stock prices until 2025, which includes the daily closing price of the stock. The objective is to create a model capable of learning from the historical price data and generating predictions for future prices. RNNs are particularly suited for this type of problem due to their ability to capture temporal dependencies in sequential data.\n",
    "\n",
    "The dataset will be preprocessed, normalized, and split into training and validation sets. An RNN model will then be trained on this data, and its performance will be evaluated using a loss function suitable for regression tasks, such as Mean Squared Error (MSE)."
   ]
  },
  {
   "cell_type": "markdown",
   "id": "165a7602-030d-40a5-a604-8e948d6359de",
   "metadata": {},
   "source": [
    "## Sourcing Data\n",
    "\n",
    "In this section, we will download and load the Amazon stock price data from Kaggle. The dataset contains various attributes, including the opening price, closing price, volume, and more. However, for the purpose of this project, we will focus on the Close Price as it is one of the most important indicators for stock price prediction.\n",
    "\n",
    "After downloading and extracting the dataset, we will preprocess the data by normalizing the Close Price. Normalization is essential in machine learning, as it standardizes the data, making it easier for the model to learn meaningful patterns. The Close Price will be transformed to have a mean of 0 and a standard deviation of 1, ensuring that the data is scaled correctly for training.\n",
    "\n",
    "Finally, we will prepare the data by selecting the relevant columns and creating a new DataFrame that will be used in the subsequent steps of the modeling process."
   ]
  },
  {
   "cell_type": "markdown",
   "id": "c20b1d65-5246-476a-a3bb-77e2e7b36c70",
   "metadata": {},
   "source": [
    "### Amazon Stocks 2025\n",
    "\n",
    "> author: Mehar Shan Ali\n",
    "\n",
    "This dataset provides historical stock market data for Amazon (AMZN), one of the world's largest technology companies. The data has been sourced from Yahoo Finance and includes essential stock market attributes, allowing investors, analysts, and data scientists to analyze market trends, volatility, and stock performance."
   ]
  },
  {
   "cell_type": "code",
   "execution_count": 4,
   "id": "ab5b3395-eb8e-4e42-8d73-b70ab1a8a348",
   "metadata": {},
   "outputs": [
    {
     "name": "stdout",
     "output_type": "stream",
     "text": [
      "Warning: Your Kaggle API key is readable by other users on this system! To fix this, you can run 'chmod 600 /Users/guilh/.kaggle/kaggle.json'\n",
      "Dataset URL: https://www.kaggle.com/datasets/meharshanali/amazon-stocks-2025\n",
      "License(s): CC0-1.0\n"
     ]
    }
   ],
   "source": [
    "!kaggle datasets download \"meharshanali/amazon-stocks-2025\""
   ]
  },
  {
   "cell_type": "code",
   "execution_count": 5,
   "id": "075e4065-c350-40be-906b-ba5434ccb617",
   "metadata": {},
   "outputs": [
    {
     "name": "stdout",
     "output_type": "stream",
     "text": [
      "Archive:  amazon-stocks-2025.zip\n",
      "  inflating: AMZN_stock_data.csv     \n"
     ]
    }
   ],
   "source": [
    "!unzip *.zip"
   ]
  },
  {
   "cell_type": "markdown",
   "id": "f6c8235d-4bd9-4470-a6f8-5a69a15b5335",
   "metadata": {},
   "source": [
    "### Processing dataset\n",
    "\n",
    "This dataset contains the following stock attributes:\n",
    "\n",
    "    Date: The trading date for Amazon stock.\n",
    "    Open Price: The price at which the stock began trading on a given day.\n",
    "    High Price: The highest price recorded for the stock during the trading session.\n",
    "    Low Price: The lowest price recorded for the stock during the trading session.\n",
    "    Close Price: The final trading price of the stock at the end of the day.\n",
    "    Volume: The number of shares traded on a specific day.\n",
    "    Dividends: The amount of dividend issued per share (if any).\n",
    "    Stock Splits: Information on stock splits that occurred over time.\n"
   ]
  },
  {
   "cell_type": "code",
   "execution_count": 1,
   "id": "843f92d3-09ab-4c5e-9c2d-e566c9dd32ce",
   "metadata": {
    "tags": []
   },
   "outputs": [],
   "source": [
    "import pandas as pd\n",
    "import numpy as np\n",
    "from sklearn.model_selection import train_test_split\n",
    "import matplotlib.pyplot as plt"
   ]
  },
  {
   "cell_type": "code",
   "execution_count": 2,
   "id": "38d2e3aa-06bc-460d-8b12-020a799fe9ab",
   "metadata": {
    "tags": []
   },
   "outputs": [
    {
     "data": {
      "text/html": [
       "<div>\n",
       "<style scoped>\n",
       "    .dataframe tbody tr th:only-of-type {\n",
       "        vertical-align: middle;\n",
       "    }\n",
       "\n",
       "    .dataframe tbody tr th {\n",
       "        vertical-align: top;\n",
       "    }\n",
       "\n",
       "    .dataframe thead th {\n",
       "        text-align: right;\n",
       "    }\n",
       "</style>\n",
       "<table border=\"1\" class=\"dataframe\">\n",
       "  <thead>\n",
       "    <tr style=\"text-align: right;\">\n",
       "      <th></th>\n",
       "      <th>Date</th>\n",
       "      <th>Open</th>\n",
       "      <th>High</th>\n",
       "      <th>Low</th>\n",
       "      <th>Close</th>\n",
       "      <th>Volume</th>\n",
       "      <th>Dividends</th>\n",
       "      <th>Stock Splits</th>\n",
       "    </tr>\n",
       "  </thead>\n",
       "  <tbody>\n",
       "    <tr>\n",
       "      <th>0</th>\n",
       "      <td>1997-05-15 00:00:00-04:00</td>\n",
       "      <td>0.121875</td>\n",
       "      <td>0.125000</td>\n",
       "      <td>0.096354</td>\n",
       "      <td>0.097917</td>\n",
       "      <td>1443120000</td>\n",
       "      <td>0.0</td>\n",
       "      <td>0.0</td>\n",
       "    </tr>\n",
       "    <tr>\n",
       "      <th>1</th>\n",
       "      <td>1997-05-16 00:00:00-04:00</td>\n",
       "      <td>0.098438</td>\n",
       "      <td>0.098958</td>\n",
       "      <td>0.085417</td>\n",
       "      <td>0.086458</td>\n",
       "      <td>294000000</td>\n",
       "      <td>0.0</td>\n",
       "      <td>0.0</td>\n",
       "    </tr>\n",
       "    <tr>\n",
       "      <th>2</th>\n",
       "      <td>1997-05-19 00:00:00-04:00</td>\n",
       "      <td>0.088021</td>\n",
       "      <td>0.088542</td>\n",
       "      <td>0.081250</td>\n",
       "      <td>0.085417</td>\n",
       "      <td>122136000</td>\n",
       "      <td>0.0</td>\n",
       "      <td>0.0</td>\n",
       "    </tr>\n",
       "    <tr>\n",
       "      <th>3</th>\n",
       "      <td>1997-05-20 00:00:00-04:00</td>\n",
       "      <td>0.086458</td>\n",
       "      <td>0.087500</td>\n",
       "      <td>0.081771</td>\n",
       "      <td>0.081771</td>\n",
       "      <td>109344000</td>\n",
       "      <td>0.0</td>\n",
       "      <td>0.0</td>\n",
       "    </tr>\n",
       "    <tr>\n",
       "      <th>4</th>\n",
       "      <td>1997-05-21 00:00:00-04:00</td>\n",
       "      <td>0.081771</td>\n",
       "      <td>0.082292</td>\n",
       "      <td>0.068750</td>\n",
       "      <td>0.071354</td>\n",
       "      <td>377064000</td>\n",
       "      <td>0.0</td>\n",
       "      <td>0.0</td>\n",
       "    </tr>\n",
       "  </tbody>\n",
       "</table>\n",
       "</div>"
      ],
      "text/plain": [
       "                        Date      Open      High       Low     Close  \\\n",
       "0  1997-05-15 00:00:00-04:00  0.121875  0.125000  0.096354  0.097917   \n",
       "1  1997-05-16 00:00:00-04:00  0.098438  0.098958  0.085417  0.086458   \n",
       "2  1997-05-19 00:00:00-04:00  0.088021  0.088542  0.081250  0.085417   \n",
       "3  1997-05-20 00:00:00-04:00  0.086458  0.087500  0.081771  0.081771   \n",
       "4  1997-05-21 00:00:00-04:00  0.081771  0.082292  0.068750  0.071354   \n",
       "\n",
       "       Volume  Dividends  Stock Splits  \n",
       "0  1443120000        0.0           0.0  \n",
       "1   294000000        0.0           0.0  \n",
       "2   122136000        0.0           0.0  \n",
       "3   109344000        0.0           0.0  \n",
       "4   377064000        0.0           0.0  "
      ]
     },
     "execution_count": 2,
     "metadata": {},
     "output_type": "execute_result"
    }
   ],
   "source": [
    "df = pd.read_csv(\"AMZN_stock_data.csv\", parse_dates=['Date'])\n",
    "df.head()"
   ]
  },
  {
   "cell_type": "code",
   "execution_count": 3,
   "id": "c6da0db5-4a00-4cf6-b84e-c7d1606124bb",
   "metadata": {},
   "outputs": [
    {
     "data": {
      "image/png": "[encoded data removed]",
      "text/plain": [
       "<Figure size 640x480 with 1 Axes>"
      ]
     },
     "metadata": {},
     "output_type": "display_data"
    }
   ],
   "source": [
    "plt.plot(df[\"Date\"], df['Close'])\n",
    "plt.xlabel('Date')\n",
    "plt.ylabel('Trading price for stock')\n",
    "plt.title('Amazon Close Price')\n",
    "plt.show()"
   ]
  },
  {
   "cell_type": "code",
   "execution_count": 4,
   "id": "f8bdfcd5-5229-4f34-9e59-72c0bc4001a7",
   "metadata": {
    "scrolled": true,
    "tags": []
   },
   "outputs": [
    {
     "data": {
      "text/html": [
       "<div>\n",
       "<style scoped>\n",
       "    .dataframe tbody tr th:only-of-type {\n",
       "        vertical-align: middle;\n",
       "    }\n",
       "\n",
       "    .dataframe tbody tr th {\n",
       "        vertical-align: top;\n",
       "    }\n",
       "\n",
       "    .dataframe thead th {\n",
       "        text-align: right;\n",
       "    }\n",
       "</style>\n",
       "<table border=\"1\" class=\"dataframe\">\n",
       "  <thead>\n",
       "    <tr style=\"text-align: right;\">\n",
       "      <th></th>\n",
       "      <th>Date</th>\n",
       "      <th>Close</th>\n",
       "      <th>Close_Normalized</th>\n",
       "    </tr>\n",
       "  </thead>\n",
       "  <tbody>\n",
       "    <tr>\n",
       "      <th>0</th>\n",
       "      <td>1997-05-15 00:00:00-04:00</td>\n",
       "      <td>0.097917</td>\n",
       "      <td>-0.698321</td>\n",
       "    </tr>\n",
       "    <tr>\n",
       "      <th>1</th>\n",
       "      <td>1997-05-16 00:00:00-04:00</td>\n",
       "      <td>0.086458</td>\n",
       "      <td>-0.698519</td>\n",
       "    </tr>\n",
       "    <tr>\n",
       "      <th>2</th>\n",
       "      <td>1997-05-19 00:00:00-04:00</td>\n",
       "      <td>0.085417</td>\n",
       "      <td>-0.698536</td>\n",
       "    </tr>\n",
       "    <tr>\n",
       "      <th>3</th>\n",
       "      <td>1997-05-20 00:00:00-04:00</td>\n",
       "      <td>0.081771</td>\n",
       "      <td>-0.698599</td>\n",
       "    </tr>\n",
       "    <tr>\n",
       "      <th>4</th>\n",
       "      <td>1997-05-21 00:00:00-04:00</td>\n",
       "      <td>0.071354</td>\n",
       "      <td>-0.698778</td>\n",
       "    </tr>\n",
       "  </tbody>\n",
       "</table>\n",
       "</div>"
      ],
      "text/plain": [
       "                        Date     Close  Close_Normalized\n",
       "0  1997-05-15 00:00:00-04:00  0.097917         -0.698321\n",
       "1  1997-05-16 00:00:00-04:00  0.086458         -0.698519\n",
       "2  1997-05-19 00:00:00-04:00  0.085417         -0.698536\n",
       "3  1997-05-20 00:00:00-04:00  0.081771         -0.698599\n",
       "4  1997-05-21 00:00:00-04:00  0.071354         -0.698778"
      ]
     },
     "execution_count": 4,
     "metadata": {},
     "output_type": "execute_result"
    }
   ],
   "source": [
    "data = df[[\"Date\", \"Close\"]].copy()\n",
    "\n",
    "close_prices = df['Close'].values.astype(np.float32)\n",
    "normalized_close = (close_prices - np.mean(close_prices)) / np.std(close_prices)\n",
    "\n",
    "data[\"Close_Normalized\"] = normalized_close\n",
    "\n",
    "data.head()"
   ]
  },
  {
   "cell_type": "code",
   "execution_count": 5,
   "id": "d0f6e6af-346d-4869-bde2-e67338f6887f",
   "metadata": {
    "tags": []
   },
   "outputs": [
    {
     "name": "stdout",
     "output_type": "stream",
     "text": [
      "Training data size: (5565, 30, 1), (5565,)\n",
      "Validation data size: (1392, 30, 1), (1392,)\n"
     ]
    }
   ],
   "source": [
    "SEQUENCE_LEN = 30 # Days\n",
    "BATCH_SIZE = 32\n",
    "sequences = []\n",
    "targets = []\n",
    "\n",
    "for i in range(len(data) - SEQUENCE_LEN):\n",
    "    sequences.append(data.iloc[i:i + SEQUENCE_LEN][['Close_Normalized']].values)\n",
    "    targets.append(data.iloc[i + SEQUENCE_LEN]['Close_Normalized'])\n",
    "\n",
    "sequences, targets = np.array(sequences), np.array(targets)\n",
    "sequences_train, sequences_val, targets_train, targets_val = train_test_split(\n",
    "    sequences, targets, test_size=0.2, shuffle=False\n",
    ")\n",
    "\n",
    "print(f\"Training data size: {sequences_train.shape}, {targets_train.shape}\")\n",
    "print(f\"Validation data size: {sequences_val.shape}, {targets_val.shape}\")"
   ]
  },
  {
   "cell_type": "markdown",
   "id": "d209600c-0594-4c00-832f-043d42de7bea",
   "metadata": {},
   "source": [
    "## Building RNN\n",
    "\n",
    "In this section, we will build a Recurrent Neural Network (RNN) model to predict Amazon stock prices. RNNs are well-suited for time series data because they can capture temporal dependencies in sequences, making them ideal for tasks like stock price forecasting.\n",
    "\n",
    "We start by defining a custom RNN class using PyTorch. The model consists of the following components:\n",
    "\n",
    "- RNN Layer: The core of the model, which processes the input data sequentially. It has a hidden size of 64 units and is composed of 2 layers.\n",
    "- Fully Connected Layer: After the RNN layer, a fully connected (FC) layer is used to map the hidden state of the RNN to the final output, which in this case is a single predicted price value.\n",
    "\n",
    "- Forward Pass: The forward method defines how the data flows through the RNN and the fully connected layer. We use only the last hidden state from the RNN as the relevant feature for prediction."
   ]
  },
  {
   "cell_type": "code",
   "execution_count": 6,
   "id": "652b6746-94d1-4767-9490-3e82f2842b19",
   "metadata": {},
   "outputs": [],
   "source": [
    "import torch\n",
    "import torch.nn as nn"
   ]
  },
  {
   "cell_type": "code",
   "execution_count": 7,
   "id": "31cbcc6d-1a0a-4966-8a63-d5fc24d82ced",
   "metadata": {},
   "outputs": [],
   "source": [
    "class StockPriceRNN(nn.Module):\n",
    "    def __init__(self, input_size=1, hidden_size=64, num_layers=2, output_size=1):\n",
    "        super(StockPriceRNN, self).__init__()\n",
    "        self.rnn = nn.RNN(input_size=input_size,\n",
    "                          hidden_size=hidden_size,\n",
    "                          num_layers=num_layers,\n",
    "                          batch_first=True)\n",
    "        \n",
    "        self.fc = nn.Linear(hidden_size, output_size)\n",
    "        self.history = {'train': [], 'val': []}\n",
    "    \n",
    "    def forward(self, x):\n",
    "        return self.fc(self.rnn(x)[0][:, -1, :])\n",
    "\n",
    "    def fit(self, train_data, val_data, optimizer, criterion, n_epochs=20, verbose=True):\n",
    "        train_input, train_target = train_data\n",
    "        val_input, val_target = val_data\n",
    "        \n",
    "        for epoch in range(n_epochs):\n",
    "            self.train()\n",
    "            optimizer.zero_grad()\n",
    "            train_outputs = self(train_input)\n",
    "            train_loss = criterion(train_outputs.squeeze(), train_target)\n",
    "            train_loss.backward()\n",
    "            optimizer.step()\n",
    "\n",
    "            self.eval()\n",
    "            with torch.no_grad():\n",
    "                val_outputs = self(val_input)\n",
    "                val_loss = criterion(val_outputs.squeeze(), val_target)\n",
    "            \n",
    "            self.history['train'].append(train_loss.item())\n",
    "            self.history['val'].append(val_loss.item())\n",
    "            \n",
    "            if verbose:\n",
    "                print(f'Epoch [{epoch+1}/{n_epochs}], Train Loss: {train_loss.item():.4f}, Validation Loss: {val_loss.item():.4f}')"
   ]
  },
  {
   "cell_type": "code",
   "execution_count": 8,
   "id": "7246c4ab-0441-471c-92d8-1556eabd7603",
   "metadata": {},
   "outputs": [],
   "source": [
    "tensorify = lambda i: torch.tensor(i, dtype=torch.float32)"
   ]
  },
  {
   "cell_type": "markdown",
   "id": "41a03b2e-ba5d-4e0b-96ed-0697fb2f4978",
   "metadata": {},
   "source": [
    "## Training & Results\n",
    "\n",
    "In this section, we train the Recurrent Neural Network (RNN) model on the training data and evaluate its performance using the validation data. The model is optimized with the Adam optimizer and uses Mean Squared Error (MSE) as the loss function, which is commonly used for regression tasks.\n",
    "\n",
    "The MSE is calculated by taking the average of the squared differences between the predicted and actual values. It is a standard metric for continuous data, such as stock prices, as it penalizes larger errors more significantly, helping the model focus on minimizing large prediction discrepancies.\n",
    "\n",
    "The model is trained for 100 epochs, and during each epoch, the training and validation losses are recorded. These losses reflect how well the model is learning to predict the stock prices. We then visualize the training history by plotting the loss values for both training and validation sets over the course of the epochs."
   ]
  },
  {
   "cell_type": "code",
   "execution_count": 9,
   "id": "ae68b157-b618-4329-a135-eb3199d739cd",
   "metadata": {},
   "outputs": [],
   "source": [
    "model = StockPriceRNN()\n",
    "optimizer = torch.optim.Adam(model.parameters(), lr=0.001)\n",
    "criterion = nn.MSELoss()"
   ]
  },
  {
   "cell_type": "code",
   "execution_count": 10,
   "id": "4b09fcad-d5f5-4e72-9079-bd04d0896a55",
   "metadata": {
    "scrolled": true
   },
   "outputs": [
    {
     "name": "stdout",
     "output_type": "stream",
     "text": [
      "Epoch [1/100], Train Loss: 0.3827, Validation Loss: 3.4901\n",
      "Epoch [2/100], Train Loss: 0.3043, Validation Loss: 3.5973\n",
      "Epoch [3/100], Train Loss: 0.2396, Validation Loss: 3.7062\n",
      "Epoch [4/100], Train Loss: 0.1871, Validation Loss: 3.8111\n",
      "Epoch [5/100], Train Loss: 0.1470, Validation Loss: 3.8900\n",
      "Epoch [6/100], Train Loss: 0.1215, Validation Loss: 3.8963\n",
      "Epoch [7/100], Train Loss: 0.1132, Validation Loss: 3.7641\n",
      "Epoch [8/100], Train Loss: 0.1173, Validation Loss: 3.4841\n",
      "Epoch [9/100], Train Loss: 0.1185, Validation Loss: 3.1281\n",
      "Epoch [10/100], Train Loss: 0.1083, Validation Loss: 2.7653\n",
      "Epoch [11/100], Train Loss: 0.0901, Validation Loss: 2.4287\n",
      "Epoch [12/100], Train Loss: 0.0713, Validation Loss: 2.1237\n",
      "Epoch [13/100], Train Loss: 0.0566, Validation Loss: 1.8426\n",
      "Epoch [14/100], Train Loss: 0.0473, Validation Loss: 1.5772\n",
      "Epoch [15/100], Train Loss: 0.0415, Validation Loss: 1.3245\n",
      "Epoch [16/100], Train Loss: 0.0356, Validation Loss: 1.0861\n",
      "Epoch [17/100], Train Loss: 0.0267, Validation Loss: 0.8653\n",
      "Epoch [18/100], Train Loss: 0.0146, Validation Loss: 0.6672\n",
      "Epoch [19/100], Train Loss: 0.0036, Validation Loss: 0.5018\n",
      "Epoch [20/100], Train Loss: 0.0019, Validation Loss: 0.3865\n",
      "Epoch [21/100], Train Loss: 0.0121, Validation Loss: 0.3305\n",
      "Epoch [22/100], Train Loss: 0.0166, Validation Loss: 0.3141\n",
      "Epoch [23/100], Train Loss: 0.0111, Validation Loss: 0.3193\n",
      "Epoch [24/100], Train Loss: 0.0081, Validation Loss: 0.3374\n",
      "Epoch [25/100], Train Loss: 0.0104, Validation Loss: 0.3628\n",
      "Epoch [26/100], Train Loss: 0.0105, Validation Loss: 0.3910\n",
      "Epoch [27/100], Train Loss: 0.0069, Validation Loss: 0.4187\n",
      "Epoch [28/100], Train Loss: 0.0026, Validation Loss: 0.4443\n",
      "Epoch [29/100], Train Loss: 0.0005, Validation Loss: 0.4680\n",
      "Epoch [30/100], Train Loss: 0.0010, Validation Loss: 0.4913\n",
      "Epoch [31/100], Train Loss: 0.0029, Validation Loss: 0.5155\n",
      "Epoch [32/100], Train Loss: 0.0042, Validation Loss: 0.5402\n",
      "Epoch [33/100], Train Loss: 0.0043, Validation Loss: 0.5632\n",
      "Epoch [34/100], Train Loss: 0.0037, Validation Loss: 0.5812\n",
      "Epoch [35/100], Train Loss: 0.0031, Validation Loss: 0.5905\n",
      "Epoch [36/100], Train Loss: 0.0030, Validation Loss: 0.5887\n",
      "Epoch [37/100], Train Loss: 0.0033, Validation Loss: 0.5751\n",
      "Epoch [38/100], Train Loss: 0.0033, Validation Loss: 0.5505\n",
      "Epoch [39/100], Train Loss: 0.0029, Validation Loss: 0.5173\n",
      "Epoch [40/100], Train Loss: 0.0020, Validation Loss: 0.4790\n",
      "Epoch [41/100], Train Loss: 0.0011, Validation Loss: 0.4397\n",
      "Epoch [42/100], Train Loss: 0.0005, Validation Loss: 0.4035\n",
      "Epoch [43/100], Train Loss: 0.0005, Validation Loss: 0.3738\n",
      "Epoch [44/100], Train Loss: 0.0009, Validation Loss: 0.3524\n",
      "Epoch [45/100], Train Loss: 0.0011, Validation Loss: 0.3394\n",
      "Epoch [46/100], Train Loss: 0.0010, Validation Loss: 0.3337\n",
      "Epoch [47/100], Train Loss: 0.0009, Validation Loss: 0.3332\n",
      "Epoch [48/100], Train Loss: 0.0009, Validation Loss: 0.3357\n",
      "Epoch [49/100], Train Loss: 0.0011, Validation Loss: 0.3394\n",
      "Epoch [50/100], Train Loss: 0.0012, Validation Loss: 0.3434\n",
      "Epoch [51/100], Train Loss: 0.0011, Validation Loss: 0.3472\n",
      "Epoch [52/100], Train Loss: 0.0008, Validation Loss: 0.3512\n",
      "Epoch [53/100], Train Loss: 0.0005, Validation Loss: 0.3560\n",
      "Epoch [54/100], Train Loss: 0.0004, Validation Loss: 0.3626\n",
      "Epoch [55/100], Train Loss: 0.0004, Validation Loss: 0.3713\n",
      "Epoch [56/100], Train Loss: 0.0005, Validation Loss: 0.3819\n",
      "Epoch [57/100], Train Loss: 0.0005, Validation Loss: 0.3932\n",
      "Epoch [58/100], Train Loss: 0.0004, Validation Loss: 0.4036\n",
      "Epoch [59/100], Train Loss: 0.0004, Validation Loss: 0.4114\n",
      "Epoch [60/100], Train Loss: 0.0005, Validation Loss: 0.4152\n",
      "Epoch [61/100], Train Loss: 0.0006, Validation Loss: 0.4145\n",
      "Epoch [62/100], Train Loss: 0.0006, Validation Loss: 0.4095\n",
      "Epoch [63/100], Train Loss: 0.0005, Validation Loss: 0.4011\n",
      "Epoch [64/100], Train Loss: 0.0004, Validation Loss: 0.3908\n",
      "Epoch [65/100], Train Loss: 0.0004, Validation Loss: 0.3802\n",
      "Epoch [66/100], Train Loss: 0.0003, Validation Loss: 0.3706\n",
      "Epoch [67/100], Train Loss: 0.0004, Validation Loss: 0.3628\n",
      "Epoch [68/100], Train Loss: 0.0003, Validation Loss: 0.3571\n",
      "Epoch [69/100], Train Loss: 0.0003, Validation Loss: 0.3531\n",
      "Epoch [70/100], Train Loss: 0.0003, Validation Loss: 0.3503\n",
      "Epoch [71/100], Train Loss: 0.0003, Validation Loss: 0.3481\n",
      "Epoch [72/100], Train Loss: 0.0003, Validation Loss: 0.3460\n",
      "Epoch [73/100], Train Loss: 0.0004, Validation Loss: 0.3440\n",
      "Epoch [74/100], Train Loss: 0.0003, Validation Loss: 0.3424\n",
      "Epoch [75/100], Train Loss: 0.0003, Validation Loss: 0.3416\n",
      "Epoch [76/100], Train Loss: 0.0003, Validation Loss: 0.3420\n",
      "Epoch [77/100], Train Loss: 0.0003, Validation Loss: 0.3439\n",
      "Epoch [78/100], Train Loss: 0.0003, Validation Loss: 0.3471\n",
      "Epoch [79/100], Train Loss: 0.0003, Validation Loss: 0.3510\n",
      "Epoch [80/100], Train Loss: 0.0003, Validation Loss: 0.3551\n",
      "Epoch [81/100], Train Loss: 0.0003, Validation Loss: 0.3585\n",
      "Epoch [82/100], Train Loss: 0.0003, Validation Loss: 0.3606\n",
      "Epoch [83/100], Train Loss: 0.0003, Validation Loss: 0.3611\n",
      "Epoch [84/100], Train Loss: 0.0003, Validation Loss: 0.3600\n",
      "Epoch [85/100], Train Loss: 0.0003, Validation Loss: 0.3578\n",
      "Epoch [86/100], Train Loss: 0.0003, Validation Loss: 0.3550\n",
      "Epoch [87/100], Train Loss: 0.0003, Validation Loss: 0.3520\n",
      "Epoch [88/100], Train Loss: 0.0003, Validation Loss: 0.3492\n",
      "Epoch [89/100], Train Loss: 0.0003, Validation Loss: 0.3468\n",
      "Epoch [90/100], Train Loss: 0.0003, Validation Loss: 0.3447\n",
      "Epoch [91/100], Train Loss: 0.0003, Validation Loss: 0.3426\n",
      "Epoch [92/100], Train Loss: 0.0003, Validation Loss: 0.3405\n",
      "Epoch [93/100], Train Loss: 0.0003, Validation Loss: 0.3383\n",
      "Epoch [94/100], Train Loss: 0.0003, Validation Loss: 0.3360\n",
      "Epoch [95/100], Train Loss: 0.0003, Validation Loss: 0.3339\n",
      "Epoch [96/100], Train Loss: 0.0003, Validation Loss: 0.3323\n",
      "Epoch [97/100], Train Loss: 0.0003, Validation Loss: 0.3314\n",
      "Epoch [98/100], Train Loss: 0.0003, Validation Loss: 0.3313\n",
      "Epoch [99/100], Train Loss: 0.0003, Validation Loss: 0.3318\n",
      "Epoch [100/100], Train Loss: 0.0002, Validation Loss: 0.3327\n"
     ]
    }
   ],
   "source": [
    "model.fit(\n",
    "    train_data=[tensorify(i) for i in [sequences_train, targets_train]],\n",
    "    val_data=[tensorify(i) for i in [sequences_val, targets_val]],\n",
    "    optimizer=optimizer,\n",
    "    criterion=criterion,\n",
    "    n_epochs=100    \n",
    ")\n",
    "torch.save(model.state_dict(), 'stock_price_rnn.pth')"
   ]
  },
  {
   "cell_type": "code",
   "execution_count": 11,
   "id": "17cb31ec-17dd-4087-a6d4-13b557153e52",
   "metadata": {},
   "outputs": [
    {
     "data": {
      "image/png": "[encoded data removed]",
      "text/plain": [
       "<Figure size 640x480 with 1 Axes>"
      ]
     },
     "metadata": {},
     "output_type": "display_data"
    }
   ],
   "source": [
    "plt.plot(model.history[\"train\"])\n",
    "plt.plot(model.history[\"val\"])\n",
    "plt.xlabel('Epochs')\n",
    "plt.ylabel('Loss')\n",
    "plt.title('Training Loss History')\n",
    "plt.show()"
   ]
  },
  {
   "cell_type": "markdown",
   "id": "38f42ced-6942-4443-9314-d9a9b665be37",
   "metadata": {},
   "source": [
    "### Performance evaluation\n",
    "\n",
    "- Steady Decrease in Loss: Both the training and validation losses decrease consistently throughout the training, with the validation loss dropping significantly faster than the training loss in the initial epochs.\n",
    "\n",
    "- Validation Loss Plateau: After epoch 60, the validation loss starts to plateau, indicating that the model's performance on unseen data starts to stabilize, and further training brings diminishing improvements in generalization.\n",
    "\n",
    "- Overfitting Analysis: The gap between the training and validation loss is relatively small, suggesting that the model is not overfitting. The validation loss does not increase significantly, indicating good generalization."
   ]
  }
 ],
 "metadata": {
  "kernelspec": {
   "display_name": "Python 3 (ipykernel)",
   "language": "python",
   "name": "python3"
  },
  "language_info": {
   "codemirror_mode": {
    "name": "ipython",
    "version": 3
   },
   "file_extension": ".py",
   "mimetype": "text/x-python",
   "name": "python",
   "nbconvert_exporter": "python",
   "pygments_lexer": "ipython3",
   "version": "3.13.2"
  }
 },
 "nbformat": 4,
 "nbformat_minor": 5
}
